{
  "nbformat": 4,
  "nbformat_minor": 0,
  "metadata": {
    "colab": {
      "provenance": [],
      "gpuType": "T4",
      "authorship_tag": "ABX9TyPJmu0RiYiXUOKBPuUzHEVV",
      "include_colab_link": true
    },
    "kernelspec": {
      "name": "python3",
      "display_name": "Python 3"
    },
    "language_info": {
      "name": "python"
    },
    "accelerator": "GPU"
  },
  "cells": [
    {
      "cell_type": "markdown",
      "metadata": {
        "id": "view-in-github",
        "colab_type": "text"
      },
      "source": [
        "<a href=\"https://colab.research.google.com/github/thatguyandy27/Pytorch-Tutorials/blob/main/Pytorch_Running_.ipynb\" target=\"_parent\"><img src=\"https://colab.research.google.com/assets/colab-badge.svg\" alt=\"Open In Colab\"/></a>"
      ]
    },
    {
      "cell_type": "code",
      "execution_count": 1,
      "metadata": {
        "id": "Lx00iapBoCrF"
      },
      "outputs": [],
      "source": [
        "import torch\n",
        "from torch import nn\n",
        "from torch.utils.data import DataLoader\n",
        "from torchvision import datasets\n",
        "from torchvision.transforms import ToTensor\n"
      ]
    },
    {
      "cell_type": "code",
      "source": [
        "training_data = datasets.FashionMNIST(\n",
        "    root=\"data\",\n",
        "    train=True,\n",
        "    download=True,\n",
        "    transform=ToTensor()\n",
        ")\n",
        "\n",
        "test_data = datasets.FashionMNIST(\n",
        "    root=\"data\",\n",
        "    train=False,\n",
        "    download=True,\n",
        "    transform= ToTensor()\n",
        ")\n"
      ],
      "metadata": {
        "colab": {
          "base_uri": "https://localhost:8080/"
        },
        "id": "X6M3xGsboZ2J",
        "outputId": "ef8c01a4-a585-4ced-8e1f-87efd1f8ebc9"
      },
      "execution_count": 2,
      "outputs": [
        {
          "output_type": "stream",
          "name": "stdout",
          "text": [
            "Downloading http://fashion-mnist.s3-website.eu-central-1.amazonaws.com/train-images-idx3-ubyte.gz\n",
            "Downloading http://fashion-mnist.s3-website.eu-central-1.amazonaws.com/train-images-idx3-ubyte.gz to data/FashionMNIST/raw/train-images-idx3-ubyte.gz\n"
          ]
        },
        {
          "output_type": "stream",
          "name": "stderr",
          "text": [
            "100%|██████████| 26421880/26421880 [00:01<00:00, 16053391.99it/s]\n"
          ]
        },
        {
          "output_type": "stream",
          "name": "stdout",
          "text": [
            "Extracting data/FashionMNIST/raw/train-images-idx3-ubyte.gz to data/FashionMNIST/raw\n",
            "\n",
            "Downloading http://fashion-mnist.s3-website.eu-central-1.amazonaws.com/train-labels-idx1-ubyte.gz\n",
            "Downloading http://fashion-mnist.s3-website.eu-central-1.amazonaws.com/train-labels-idx1-ubyte.gz to data/FashionMNIST/raw/train-labels-idx1-ubyte.gz\n"
          ]
        },
        {
          "output_type": "stream",
          "name": "stderr",
          "text": [
            "100%|██████████| 29515/29515 [00:00<00:00, 275765.87it/s]\n"
          ]
        },
        {
          "output_type": "stream",
          "name": "stdout",
          "text": [
            "Extracting data/FashionMNIST/raw/train-labels-idx1-ubyte.gz to data/FashionMNIST/raw\n",
            "\n",
            "Downloading http://fashion-mnist.s3-website.eu-central-1.amazonaws.com/t10k-images-idx3-ubyte.gz\n",
            "Downloading http://fashion-mnist.s3-website.eu-central-1.amazonaws.com/t10k-images-idx3-ubyte.gz to data/FashionMNIST/raw/t10k-images-idx3-ubyte.gz\n"
          ]
        },
        {
          "output_type": "stream",
          "name": "stderr",
          "text": [
            "100%|██████████| 4422102/4422102 [00:00<00:00, 5063745.82it/s]\n"
          ]
        },
        {
          "output_type": "stream",
          "name": "stdout",
          "text": [
            "Extracting data/FashionMNIST/raw/t10k-images-idx3-ubyte.gz to data/FashionMNIST/raw\n",
            "\n",
            "Downloading http://fashion-mnist.s3-website.eu-central-1.amazonaws.com/t10k-labels-idx1-ubyte.gz\n",
            "Downloading http://fashion-mnist.s3-website.eu-central-1.amazonaws.com/t10k-labels-idx1-ubyte.gz to data/FashionMNIST/raw/t10k-labels-idx1-ubyte.gz\n"
          ]
        },
        {
          "output_type": "stream",
          "name": "stderr",
          "text": [
            "100%|██████████| 5148/5148 [00:00<00:00, 18825001.74it/s]"
          ]
        },
        {
          "output_type": "stream",
          "name": "stdout",
          "text": [
            "Extracting data/FashionMNIST/raw/t10k-labels-idx1-ubyte.gz to data/FashionMNIST/raw\n",
            "\n"
          ]
        },
        {
          "output_type": "stream",
          "name": "stderr",
          "text": [
            "\n"
          ]
        }
      ]
    },
    {
      "cell_type": "code",
      "source": [
        "train_dataloader = DataLoader(training_data, batch_size=64)\n",
        "test_dataloader = DataLoader(test_data, batch_size=64)"
      ],
      "metadata": {
        "id": "ss29TR6UpAv4"
      },
      "execution_count": 3,
      "outputs": []
    },
    {
      "cell_type": "code",
      "source": [
        "class NeuralNetwork(nn.Module):\n",
        "  def __init__(self):\n",
        "    super().__init__()\n",
        "    self.flatten = nn.Flatten()\n",
        "    self.linear_relu_stack = nn.Sequential(\n",
        "        nn.Linear(28 * 28, 512),\n",
        "        nn.ReLU(),\n",
        "        nn.Linear(512, 512),\n",
        "        nn.ReLU(),\n",
        "        nn.Linear(512, 10),\n",
        "    )\n",
        "\n",
        "  def forward(self, x):\n",
        "    x = self.flatten(x)\n",
        "    logits = self.linear_relu_stack(x)\n",
        "    return logits\n",
        "\n"
      ],
      "metadata": {
        "id": "1iMamOX3pWt7"
      },
      "execution_count": 4,
      "outputs": []
    },
    {
      "cell_type": "code",
      "source": [
        "model = NeuralNetwork()"
      ],
      "metadata": {
        "id": "wDRr0xgyqND7"
      },
      "execution_count": 5,
      "outputs": []
    },
    {
      "cell_type": "code",
      "source": [
        "learning_rate = 1e-3\n",
        "batch_size=64\n",
        "epochs = 5\n",
        "loss_fn = nn.CrossEntropyLoss()\n",
        "optimizer = torch.optim.SGD(model.parameters(), lr=learning_rate)"
      ],
      "metadata": {
        "id": "5fiJspKtqRCs"
      },
      "execution_count": 7,
      "outputs": []
    },
    {
      "cell_type": "code",
      "source": [
        "def train_loop(dataloader, model, loss_fn, optimizer):\n",
        "  size = len(dataloader.dataset)\n",
        "  model.train()\n",
        "  for batch, (X, y) in enumerate(dataloader):\n",
        "    pred = model(X)\n",
        "    loss = loss_fn(pred, y)\n",
        "\n",
        "    loss.backward()\n",
        "    optimizer.step()\n",
        "    optimizer.zero_grad()\n",
        "\n",
        "    if batch % 100 == 0:\n",
        "      loss, current = loss.item(), batch * batch_size + len(X)\n",
        "      print(f\"loss: {loss:>7f} [{current:>5d}|{size:>5d}]\")\n"
      ],
      "metadata": {
        "id": "5xmKq0DNqfYT"
      },
      "execution_count": 11,
      "outputs": []
    },
    {
      "cell_type": "code",
      "source": [
        "def test_loop(dataloader, model, loss_fn):\n",
        "  model.eval()\n",
        "  size = len(dataloader.dataset)\n",
        "  num_batches = len(dataloader)\n",
        "  test_loss, correct = 0, 0\n",
        "\n",
        "\n",
        "  with torch.no_grad():\n",
        "    for X, y in dataloader:\n",
        "      pred = model(X)\n",
        "      test_loss += loss_fn(pred, y).item()\n",
        "      correct += (pred.argmax(1) == y).type(torch.float).sum().item()\n",
        "\n",
        "\n",
        "  test_loss /= num_batches\n",
        "  correct /= size\n",
        "\n",
        "  print(f\"Test Error: \\n Accuracy: {(100 * correct):>0.1f}%,  Avg Loss: {test_loss:>8f} \\n\")"
      ],
      "metadata": {
        "id": "AQkGAwaftNBj"
      },
      "execution_count": 9,
      "outputs": []
    },
    {
      "cell_type": "code",
      "source": [
        "loss_fn = nn.CrossEntropyLoss()\n",
        "optimizer = torch.optim.SGD(model.parameters(), lr=learning_rate)\n",
        "epochs = 10\n",
        "\n",
        "for t in range(epochs):\n",
        "  print(f\"Epoch {t+1}\\n..............\")\n",
        "  train_loop(train_dataloader, model, loss_fn, optimizer)\n",
        "  test_loop(test_dataloader, model, loss_fn)\n",
        "\n",
        "print(\"Done!\")\n",
        ""
      ],
      "metadata": {
        "colab": {
          "base_uri": "https://localhost:8080/"
        },
        "id": "eh5FYuxYuwdo",
        "outputId": "6daa59b3-14c4-45c6-afbc-434f1a3dbc65"
      },
      "execution_count": 12,
      "outputs": [
        {
          "output_type": "stream",
          "name": "stdout",
          "text": [
            "Epoch 1\n",
            "..............\n",
            "loss: 2.308412 [   64|60000]\n",
            "loss: 2.300664 [ 6464|60000]\n",
            "loss: 2.277514 [12864|60000]\n",
            "loss: 2.268001 [19264|60000]\n",
            "loss: 2.255355 [25664|60000]\n",
            "loss: 2.218480 [32064|60000]\n",
            "loss: 2.237186 [38464|60000]\n",
            "loss: 2.198251 [44864|60000]\n",
            "loss: 2.201478 [51264|60000]\n",
            "loss: 2.166384 [57664|60000]\n",
            "Test Error: \n",
            " Accuracy: 33.7%,  Avg Loss: 2.162411 \n",
            "\n",
            "Epoch 2\n",
            "..............\n",
            "loss: 2.167242 [   64|60000]\n",
            "loss: 2.166036 [ 6464|60000]\n",
            "loss: 2.106092 [12864|60000]\n",
            "loss: 2.124226 [19264|60000]\n",
            "loss: 2.072837 [25664|60000]\n",
            "loss: 2.009067 [32064|60000]\n",
            "loss: 2.053003 [38464|60000]\n",
            "loss: 1.964314 [44864|60000]\n",
            "loss: 1.982413 [51264|60000]\n",
            "loss: 1.919607 [57664|60000]\n",
            "Test Error: \n",
            " Accuracy: 51.6%,  Avg Loss: 1.906900 \n",
            "\n",
            "Epoch 3\n",
            "..............\n",
            "loss: 1.926280 [   64|60000]\n",
            "loss: 1.909808 [ 6464|60000]\n",
            "loss: 1.789618 [12864|60000]\n",
            "loss: 1.840055 [19264|60000]\n",
            "loss: 1.722414 [25664|60000]\n",
            "loss: 1.669573 [32064|60000]\n",
            "loss: 1.713288 [38464|60000]\n",
            "loss: 1.595279 [44864|60000]\n",
            "loss: 1.635089 [51264|60000]\n",
            "loss: 1.546549 [57664|60000]\n",
            "Test Error: \n",
            " Accuracy: 58.5%,  Avg Loss: 1.544632 \n",
            "\n",
            "Epoch 4\n",
            "..............\n",
            "loss: 1.595192 [   64|60000]\n",
            "loss: 1.572070 [ 6464|60000]\n",
            "loss: 1.415982 [12864|60000]\n",
            "loss: 1.497297 [19264|60000]\n",
            "loss: 1.373519 [25664|60000]\n",
            "loss: 1.365235 [32064|60000]\n",
            "loss: 1.394137 [38464|60000]\n",
            "loss: 1.304431 [44864|60000]\n",
            "loss: 1.347248 [51264|60000]\n",
            "loss: 1.262223 [57664|60000]\n",
            "Test Error: \n",
            " Accuracy: 62.2%,  Avg Loss: 1.274590 \n",
            "\n",
            "Epoch 5\n",
            "..............\n",
            "loss: 1.340454 [   64|60000]\n",
            "loss: 1.329222 [ 6464|60000]\n",
            "loss: 1.159001 [12864|60000]\n",
            "loss: 1.268380 [19264|60000]\n",
            "loss: 1.146596 [25664|60000]\n",
            "loss: 1.168302 [32064|60000]\n",
            "loss: 1.196855 [38464|60000]\n",
            "loss: 1.126001 [44864|60000]\n",
            "loss: 1.167539 [51264|60000]\n",
            "loss: 1.097211 [57664|60000]\n",
            "Test Error: \n",
            " Accuracy: 64.2%,  Avg Loss: 1.106987 \n",
            "\n",
            "Epoch 6\n",
            "..............\n",
            "loss: 1.170145 [   64|60000]\n",
            "loss: 1.174984 [ 6464|60000]\n",
            "loss: 0.988982 [12864|60000]\n",
            "loss: 1.124768 [19264|60000]\n",
            "loss: 1.001061 [25664|60000]\n",
            "loss: 1.033623 [32064|60000]\n",
            "loss: 1.073596 [38464|60000]\n",
            "loss: 1.011496 [44864|60000]\n",
            "loss: 1.049368 [51264|60000]\n",
            "loss: 0.993236 [57664|60000]\n",
            "Test Error: \n",
            " Accuracy: 65.8%,  Avg Loss: 0.997080 \n",
            "\n",
            "Epoch 7\n",
            "..............\n",
            "loss: 1.049610 [   64|60000]\n",
            "loss: 1.073188 [ 6464|60000]\n",
            "loss: 0.870921 [12864|60000]\n",
            "loss: 1.027483 [19264|60000]\n",
            "loss: 0.905533 [25664|60000]\n",
            "loss: 0.936146 [32064|60000]\n",
            "loss: 0.991068 [38464|60000]\n",
            "loss: 0.935553 [44864|60000]\n",
            "loss: 0.966268 [51264|60000]\n",
            "loss: 0.922441 [57664|60000]\n",
            "Test Error: \n",
            " Accuracy: 67.1%,  Avg Loss: 0.920877 \n",
            "\n",
            "Epoch 8\n",
            "..............\n",
            "loss: 0.958940 [   64|60000]\n",
            "loss: 1.001381 [ 6464|60000]\n",
            "loss: 0.784971 [12864|60000]\n",
            "loss: 0.957704 [19264|60000]\n",
            "loss: 0.839689 [25664|60000]\n",
            "loss: 0.862964 [32064|60000]\n",
            "loss: 0.932200 [38464|60000]\n",
            "loss: 0.884164 [44864|60000]\n",
            "loss: 0.905432 [51264|60000]\n",
            "loss: 0.871307 [57664|60000]\n",
            "Test Error: \n",
            " Accuracy: 68.1%,  Avg Loss: 0.865420 \n",
            "\n",
            "Epoch 9\n",
            "..............\n",
            "loss: 0.888402 [   64|60000]\n",
            "loss: 0.947376 [ 6464|60000]\n",
            "loss: 0.719976 [12864|60000]\n",
            "loss: 0.905214 [19264|60000]\n",
            "loss: 0.792415 [25664|60000]\n",
            "loss: 0.806908 [32064|60000]\n",
            "loss: 0.887403 [38464|60000]\n",
            "loss: 0.848049 [44864|60000]\n",
            "loss: 0.859431 [51264|60000]\n",
            "loss: 0.832734 [57664|60000]\n",
            "Test Error: \n",
            " Accuracy: 69.6%,  Avg Loss: 0.823258 \n",
            "\n",
            "Epoch 10\n",
            "..............\n",
            "loss: 0.831921 [   64|60000]\n",
            "loss: 0.904266 [ 6464|60000]\n",
            "loss: 0.669452 [12864|60000]\n",
            "loss: 0.864665 [19264|60000]\n",
            "loss: 0.756726 [25664|60000]\n",
            "loss: 0.763331 [32064|60000]\n",
            "loss: 0.851166 [38464|60000]\n",
            "loss: 0.821447 [44864|60000]\n",
            "loss: 0.823646 [51264|60000]\n",
            "loss: 0.802030 [57664|60000]\n",
            "Test Error: \n",
            " Accuracy: 70.8%,  Avg Loss: 0.789809 \n",
            "\n",
            "Done!\n"
          ]
        }
      ]
    },
    {
      "cell_type": "code",
      "source": [],
      "metadata": {
        "id": "8s1YUts0wBs_"
      },
      "execution_count": null,
      "outputs": []
    }
  ]
}