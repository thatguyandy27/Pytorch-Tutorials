{
  "nbformat": 4,
  "nbformat_minor": 0,
  "metadata": {
    "colab": {
      "provenance": [],
      "gpuType": "T4",
      "authorship_tag": "ABX9TyMOYeg8InRaJfafYYS33Hvp",
      "include_colab_link": true
    },
    "kernelspec": {
      "name": "python3",
      "display_name": "Python 3"
    },
    "language_info": {
      "name": "python"
    },
    "accelerator": "GPU"
  },
  "cells": [
    {
      "cell_type": "markdown",
      "metadata": {
        "id": "view-in-github",
        "colab_type": "text"
      },
      "source": [
        "<a href=\"https://colab.research.google.com/github/thatguyandy27/Pytorch-Tutorials/blob/main/cifar10.ipynb\" target=\"_parent\"><img src=\"https://colab.research.google.com/assets/colab-badge.svg\" alt=\"Open In Colab\"/></a>"
      ]
    },
    {
      "cell_type": "code",
      "execution_count": 10,
      "metadata": {
        "id": "3mKiSCgsQomX"
      },
      "outputs": [],
      "source": [
        "import torch\n",
        "import torchvision\n",
        "import torchvision.transforms as transforms\n",
        "\n",
        "import matplotlib.pyplot as plt\n",
        "import numpy as np\n",
        "\n",
        "import torch.nn as nn\n",
        "import torch.nn.functional as F\n",
        "import torch.optim as optim"
      ]
    },
    {
      "cell_type": "code",
      "source": [
        "# CIFAR10\n",
        "transform = transforms.Compose(\n",
        "    [transforms.ToTensor(),\n",
        "     transforms.Normalize((.5, .5, .5), (.5, .5, .5))]\n",
        ")\n",
        "\n",
        "batch_size = 4\n",
        "#load set, create loader for train\n",
        "trainset = torchvision.datasets.CIFAR10(root='./data', train=True, download=True, transform=transform)\n",
        "trainloader = torch.utils.data.DataLoader(trainset, batch_size=batch_size, shuffle=True, num_workers=2)\n",
        "\n",
        "#load test set, create loader for test\n",
        "testset = torchvision.datasets.CIFAR10(root='./data', train=False, download=True, transform=transform)\n",
        "testloader = torch.utils.data.DataLoader(testset, batch_size=batch_size, shuffle=True, num_workers=2)\n",
        "\n",
        "classes=('plane', 'car', 'bird', 'cat', 'deer', 'dog', 'frog' ,'horse', 'ship', 'truck')\n"
      ],
      "metadata": {
        "colab": {
          "base_uri": "https://localhost:8080/"
        },
        "id": "j30SN20bQ5v2",
        "outputId": "796a6f5b-3388-4a5b-8e36-ce2c3f98f081"
      },
      "execution_count": 3,
      "outputs": [
        {
          "output_type": "stream",
          "name": "stdout",
          "text": [
            "Files already downloaded and verified\n",
            "Files already downloaded and verified\n"
          ]
        }
      ]
    },
    {
      "cell_type": "markdown",
      "source": [],
      "metadata": {
        "id": "gpHL3rNeSFMg"
      }
    },
    {
      "cell_type": "code",
      "source": [
        "def imgshow(img):\n",
        "  img = img / 2 + .5 # unnormalize\n",
        "  npimg = img.numpy()\n",
        "  plt.imshow(np.transpose(npimg, (1, 2, 0)))\n",
        "  plt.show()"
      ],
      "metadata": {
        "id": "sV8fAMUsR0Hm"
      },
      "execution_count": 5,
      "outputs": []
    },
    {
      "cell_type": "code",
      "source": [
        "dataiter = iter(trainloader)\n",
        "images, labels = next(dataiter)\n",
        "\n",
        "imgshow(torchvision.utils.make_grid(images))\n",
        "\n",
        "print(' '.join(f'{classes[labels[j]]:5s}' for j in range(batch_size)))"
      ],
      "metadata": {
        "colab": {
          "base_uri": "https://localhost:8080/",
          "height": 210
        },
        "id": "HXBBN6pcSS4V",
        "outputId": "d64039c8-067c-468b-e1d8-64708201d33c"
      },
      "execution_count": 6,
      "outputs": [
        {
          "output_type": "display_data",
          "data": {
            "text/plain": [
              "<Figure size 640x480 with 1 Axes>"
            ],
            "image/png": "[encoded data removed]"
          },
          "metadata": {}
        },
        {
          "output_type": "stream",
          "name": "stdout",
          "text": [
            "plane cat   dog   bird \n"
          ]
        }
      ]
    },
    {
      "cell_type": "code",
      "source": [
        "class Net(nn.Module):\n",
        "  def __init__(self):\n",
        "    super().__init__()\n",
        "    self.conv1 = nn.Conv2d(3, 6, 5)\n",
        "    self.pool = nn.MaxPool2d(2, 2)\n",
        "    self.conv2 = nn.Conv2d(6, 16, 5)\n",
        "    self.fc1 = nn.Linear(16 * 5 * 5, 120)\n",
        "    self.fc2 = nn.Linear(120, 84)\n",
        "    self.fc3 = nn.Linear(84, 10)\n",
        "\n",
        "  def forward(self, x):\n",
        "    # call the first conv layer with relu activation.\n",
        "    # max pool\n",
        "    x = self.pool(F.relu(self.conv1(x)))\n",
        "    # call second layer with relu activation and max pool!\n",
        "    x = self.pool(F.relu(self.conv2(x)))\n",
        "    # call flatten dimensions for fully connected layers\n",
        "    x = torch.flatten(x, 1)\n",
        "    # relu activation with fully connected layers\n",
        "    x = F.relu(self.fc1(x))\n",
        "    x = F.relu(self.fc2(x))\n",
        "\n",
        "    return self.fc3(x)\n"
      ],
      "metadata": {
        "id": "S3oufSVQSnZN"
      },
      "execution_count": 8,
      "outputs": []
    },
    {
      "cell_type": "code",
      "source": [
        "net = Net()\n",
        "criterion = nn.CrossEntropyLoss()\n",
        "optimizer = optim.SGD(net.parameters(), lr=.001, momentum=.9)"
      ],
      "metadata": {
        "id": "VVt7YLjgUMl-"
      },
      "execution_count": 22,
      "outputs": []
    },
    {
      "cell_type": "code",
      "source": [
        "for epoch in range(5):\n",
        "  running_loss = 0\n",
        "\n",
        "  for i, data in enumerate(trainloader, 0):\n",
        "    inputs, labels = data\n",
        "\n",
        "    optimizer.zero_grad()\n",
        "\n",
        "    outputs = net(inputs)\n",
        "    loss = criterion(outputs, labels)\n",
        "    loss.backward()\n",
        "    optimizer.step()\n",
        "\n",
        "    running_loss += loss.item()\n",
        "\n",
        "    if i % 2000 == 1999:\n",
        "      print(f'[{epoch + 1}, {i + 1:5d}] loss: {running_loss / 2000:.3f}')\n",
        "      running_loss = 0\n",
        "\n",
        "print('Finished Training!')"
      ],
      "metadata": {
        "colab": {
          "base_uri": "https://localhost:8080/"
        },
        "id": "FIzykyZXUOiV",
        "outputId": "6e25d380-c395-4e2a-83f8-ff7ab57f661a"
      },
      "execution_count": 23,
      "outputs": [
        {
          "output_type": "stream",
          "name": "stdout",
          "text": [
            "[1,  2000] loss: 2.230\n",
            "[1,  4000] loss: 1.897\n",
            "[1,  6000] loss: 1.690\n",
            "[1,  8000] loss: 1.606\n",
            "[1, 10000] loss: 1.550\n",
            "[1, 12000] loss: 1.481\n",
            "[2,  2000] loss: 1.409\n",
            "[2,  4000] loss: 1.358\n",
            "[2,  6000] loss: 1.369\n",
            "[2,  8000] loss: 1.338\n",
            "[2, 10000] loss: 1.327\n",
            "[2, 12000] loss: 1.288\n",
            "[3,  2000] loss: 1.230\n",
            "[3,  4000] loss: 1.223\n",
            "[3,  6000] loss: 1.208\n",
            "[3,  8000] loss: 1.206\n",
            "[3, 10000] loss: 1.211\n",
            "[3, 12000] loss: 1.185\n",
            "[4,  2000] loss: 1.113\n",
            "[4,  4000] loss: 1.133\n",
            "[4,  6000] loss: 1.114\n",
            "[4,  8000] loss: 1.133\n",
            "[4, 10000] loss: 1.126\n",
            "[4, 12000] loss: 1.127\n",
            "[5,  2000] loss: 1.051\n",
            "[5,  4000] loss: 1.049\n",
            "[5,  6000] loss: 1.061\n",
            "[5,  8000] loss: 1.044\n",
            "[5, 10000] loss: 1.050\n",
            "[5, 12000] loss: 1.075\n",
            "Finished Training!\n"
          ]
        }
      ]
    },
    {
      "cell_type": "code",
      "source": [
        "PATH = './cifar_net.pth'\n",
        "torch.save(net.state_dict(), PATH)"
      ],
      "metadata": {
        "id": "uF6aYvIMVMHz"
      },
      "execution_count": 24,
      "outputs": []
    },
    {
      "cell_type": "code",
      "source": [
        "dataiter = iter(testloader)\n",
        "images, labels = next(dataiter)\n",
        "\n",
        "imgshow(torchvision.utils.make_grid(images))\n",
        "print('GroundTruth: ', ' '.join(f'{classes[labels[j]]:5s}' for j in range(4)))"
      ],
      "metadata": {
        "colab": {
          "base_uri": "https://localhost:8080/",
          "height": 210
        },
        "id": "VGoarYHxXQAF",
        "outputId": "cf3cb53c-7e55-4c8e-be90-20de0269f8e0"
      },
      "execution_count": 25,
      "outputs": [
        {
          "output_type": "display_data",
          "data": {
            "text/plain": [
              "<Figure size 640x480 with 1 Axes>"
            ],
            "image/png": "[encoded data removed]"
          },
          "metadata": {}
        },
        {
          "output_type": "stream",
          "name": "stdout",
          "text": [
            "GroundTruth:  frog  plane deer  plane\n"
          ]
        }
      ]
    },
    {
      "cell_type": "code",
      "source": [
        "net =Net()\n",
        "net.load_state_dict(torch.load(PATH))"
      ],
      "metadata": {
        "colab": {
          "base_uri": "https://localhost:8080/"
        },
        "id": "tcrZNX4jXrI0",
        "outputId": "cf62e5fe-146b-45b6-a89d-b191a0fa4c26"
      },
      "execution_count": 26,
      "outputs": [
        {
          "output_type": "execute_result",
          "data": {
            "text/plain": [
              "<All keys matched successfully>"
            ]
          },
          "metadata": {},
          "execution_count": 26
        }
      ]
    },
    {
      "cell_type": "code",
      "source": [
        "outputs = net(images)\n",
        "_, predicted = torch.max(outputs, 1)\n",
        "print('Predicted: ', ' '.join(f'{classes[predicted[j]]:5s}' for j in range(4)))"
      ],
      "metadata": {
        "colab": {
          "base_uri": "https://localhost:8080/"
        },
        "id": "WjYbC1OWX-NX",
        "outputId": "33b20845-d8a0-48ad-da44-6ee2b5a7a94b"
      },
      "execution_count": 27,
      "outputs": [
        {
          "output_type": "stream",
          "name": "stdout",
          "text": [
            "Predicted:  frog  car   cat   plane\n"
          ]
        }
      ]
    },
    {
      "cell_type": "code",
      "source": [
        "correct = 0\n",
        "total = 0\n",
        "# since we're not training, we don't need to calculate the gradients for our outputs\n",
        "with torch.no_grad():\n",
        "    for data in testloader:\n",
        "        images, labels = data\n",
        "        # calculate outputs by running images through the network\n",
        "        outputs = net(images)\n",
        "        # the class with the highest energy is what we choose as prediction\n",
        "        _, predicted = torch.max(outputs.data, 1)\n",
        "        total += labels.size(0)\n",
        "        correct += (predicted == labels).sum().item()\n",
        "\n",
        "print(f'Accuracy of the network on the 10000 test images: {100 * correct // total} %')"
      ],
      "metadata": {
        "colab": {
          "base_uri": "https://localhost:8080/"
        },
        "id": "v-X28NuwYVaU",
        "outputId": "71fdef89-2dbc-4d26-9eb2-8e6c5ca235df"
      },
      "execution_count": 28,
      "outputs": [
        {
          "output_type": "stream",
          "name": "stdout",
          "text": [
            "Accuracy of the network on the 10000 test images: 59 %\n"
          ]
        }
      ]
    },
    {
      "cell_type": "code",
      "source": [
        "# find classes that performed well, and what didnt'\n",
        "\n",
        "correct_pred = { classname: 0 for classname in classes}\n",
        "total_pred = { classname:0 for classname in classes}\n",
        "\n",
        "with torch.no_grad():\n",
        "  for data in testloader:\n",
        "    images, labels = data\n",
        "    outputs = net(images)\n",
        "    _, predictions = torch.max(outputs, 1)\n",
        "    for label, pred in zip(labels, predictions):\n",
        "      if label == pred:\n",
        "        correct_pred[classes[label]] += 1\n",
        "      total_pred[classes[label]] += 1\n",
        "\n",
        "\n",
        "for classname, correct, in correct_pred.items():\n",
        "  acc = 100.0 * correct / total_pred[classname]\n",
        "  print(f'Accuracy for class: {classname:5s} is {acc:.1f} %')"
      ],
      "metadata": {
        "colab": {
          "base_uri": "https://localhost:8080/"
        },
        "id": "vaa-qu7lYfGt",
        "outputId": "99b3af1d-cde5-4929-8893-676800f3676a"
      },
      "execution_count": 30,
      "outputs": [
        {
          "output_type": "stream",
          "name": "stdout",
          "text": [
            "Accuracy for class: plane is 70.2 %\n",
            "Accuracy for class: car   is 73.0 %\n",
            "Accuracy for class: bird  is 42.2 %\n",
            "Accuracy for class: cat   is 65.0 %\n",
            "Accuracy for class: deer  is 50.6 %\n",
            "Accuracy for class: dog   is 35.3 %\n",
            "Accuracy for class: frog  is 60.0 %\n",
            "Accuracy for class: horse is 70.8 %\n",
            "Accuracy for class: ship  is 69.3 %\n",
            "Accuracy for class: truck is 55.8 %\n"
          ]
        }
      ]
    },
    {
      "cell_type": "code",
      "source": [],
      "metadata": {
        "id": "3XTeWAnwa9Os"
      },
      "execution_count": null,
      "outputs": []
    }
  ]
}